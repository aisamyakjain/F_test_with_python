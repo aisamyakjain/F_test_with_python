{
 "cells": [
  {
   "cell_type": "code",
   "execution_count": 1,
   "id": "1e0eb063-2cb8-4451-bb17-33b9668daee6",
   "metadata": {},
   "outputs": [],
   "source": [
    "#Evidence to say that the two population variances are not equal.\n",
    "\n",
    "worker1= [18, 19, 22, 25, 27, 28, 41, 45, 51, 55]\n",
    "worker2= [14, 15, 15, 17, 18, 22, 25, 25, 27, 34]"
   ]
  },
  {
   "cell_type": "code",
   "execution_count": 3,
   "id": "4012175a-c58d-43ec-82fe-600a19471641",
   "metadata": {},
   "outputs": [],
   "source": [
    "import numpy as np\n",
    "f_test = np.var(worker1)/np.var(worker2)"
   ]
  },
  {
   "cell_type": "code",
   "execution_count": 4,
   "id": "acc2ddb9-85df-49e0-a919-8fd92f1787e7",
   "metadata": {},
   "outputs": [
    {
     "data": {
      "text/plain": [
       "4.387122002085506"
      ]
     },
     "execution_count": 4,
     "metadata": {},
     "output_type": "execute_result"
    }
   ],
   "source": [
    "f_test"
   ]
  },
  {
   "cell_type": "code",
   "execution_count": 6,
   "id": "d0b3601a-f33c-4bb9-aebd-7bc79aebb104",
   "metadata": {},
   "outputs": [],
   "source": [
    "# degree of freedom\n",
    "df1 = len(worker1)-1\n",
    "df2 = len(worker2)-2\n",
    "significance_value = 0.05"
   ]
  },
  {
   "cell_type": "code",
   "execution_count": 7,
   "id": "771ba214-6101-4eed-af88-827dd1983823",
   "metadata": {},
   "outputs": [],
   "source": [
    "import scipy.stats as stat"
   ]
  },
  {
   "cell_type": "code",
   "execution_count": 9,
   "id": "ea55a65e-2f3c-4787-8a98-60d8c8143362",
   "metadata": {},
   "outputs": [],
   "source": [
    "critical_value=stat.f.ppf(q=1-significance_value,dfn=df1,dfd=df2)"
   ]
  },
  {
   "cell_type": "code",
   "execution_count": 10,
   "id": "9e1b78f6-c36a-4775-9080-87a4c2709988",
   "metadata": {},
   "outputs": [
    {
     "data": {
      "text/plain": [
       "3.3881302347397266"
      ]
     },
     "execution_count": 10,
     "metadata": {},
     "output_type": "execute_result"
    }
   ],
   "source": [
    "critical_value"
   ]
  },
  {
   "cell_type": "code",
   "execution_count": 11,
   "id": "6477d11a-861b-401a-a656-c6e4edaa2d37",
   "metadata": {},
   "outputs": [
    {
     "name": "stdout",
     "output_type": "stream",
     "text": [
      "we reject the null hypothesis\n"
     ]
    }
   ],
   "source": [
    "if f_test > significance_value:\n",
    "    print(\"we reject the null hypothesis\")\n",
    "else:\n",
    "    print(\"We fail to reject the null hypothesis\")\n"
   ]
  },
  {
   "cell_type": "code",
   "execution_count": null,
   "id": "fe61db0b-9ec0-459b-8b43-be24a4494054",
   "metadata": {},
   "outputs": [],
   "source": []
  }
 ],
 "metadata": {
  "kernelspec": {
   "display_name": "Python 3 (ipykernel)",
   "language": "python",
   "name": "python3"
  },
  "language_info": {
   "codemirror_mode": {
    "name": "ipython",
    "version": 3
   },
   "file_extension": ".py",
   "mimetype": "text/x-python",
   "name": "python",
   "nbconvert_exporter": "python",
   "pygments_lexer": "ipython3",
   "version": "3.10.8"
  }
 },
 "nbformat": 4,
 "nbformat_minor": 5
}
